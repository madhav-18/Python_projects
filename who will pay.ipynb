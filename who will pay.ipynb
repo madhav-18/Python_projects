{
 "cells": [
  {
   "cell_type": "code",
   "execution_count": 5,
   "id": "4c709749",
   "metadata": {},
   "outputs": [
    {
     "name": "stdout",
     "output_type": "stream",
     "text": [
      "Give me everybody's names, separated by a comma. madhav, kajal, khushi\n",
      "0\n",
      "madhav is going to buy the meal today!\n"
     ]
    }
   ],
   "source": [
    "import random\n",
    "\n",
    "test_seed = int(input(\"Create a seed number: \"))\n",
    "random.seed(test_seed)\n",
    "# Split string method\n",
    "names_string = input(\"Give me everybody's names, separated by a comma. \")\n",
    "names = names_string.split(\", \")\n",
    "\n",
    "num_items = len(names)\n",
    "\n",
    "random_choice = random.randint(0,num_items - 1)\n",
    "person_who_will_pay = names[random_choice]\n",
    "print(person_who_will_pay +\" is going to buy the meal today!\")"
   ]
  },
  {
   "cell_type": "code",
   "execution_count": null,
   "id": "b6b655a2",
   "metadata": {},
   "outputs": [],
   "source": []
  }
 ],
 "metadata": {
  "kernelspec": {
   "display_name": "Python 3 (ipykernel)",
   "language": "python",
   "name": "python3"
  },
  "language_info": {
   "codemirror_mode": {
    "name": "ipython",
    "version": 3
   },
   "file_extension": ".py",
   "mimetype": "text/x-python",
   "name": "python",
   "nbconvert_exporter": "python",
   "pygments_lexer": "ipython3",
   "version": "3.10.5"
  }
 },
 "nbformat": 4,
 "nbformat_minor": 5
}
