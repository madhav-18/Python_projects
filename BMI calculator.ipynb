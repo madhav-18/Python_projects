{
 "cells": [
  {
   "cell_type": "code",
   "execution_count": 2,
   "id": "28ffd3e6",
   "metadata": {},
   "outputs": [
    {
     "name": "stdout",
     "output_type": "stream",
     "text": [
      "Do you want to know your Body mass index(BMI) fill the details\n",
      "enter your height in m: 1.7\n",
      "enter your weight in kg: 52\n",
      "17\n"
     ]
    }
   ],
   "source": [
    "print(\"Do you want to know your Body mass index(BMI) fill the details\")\n",
    "\n",
    "height = input(\"enter your height in m: \")\n",
    "\n",
    "weight = input(\"enter your weight in kg: \")\n",
    "\n",
    "BMI = int(weight) / float(height) ** 2\n",
    "\n",
    "BMI_int = int(BMI)\n",
    "\n",
    "print(BMI_int)"
   ]
  },
  {
   "cell_type": "code",
   "execution_count": 6,
   "id": "c5070b36",
   "metadata": {},
   "outputs": [
    {
     "name": "stdout",
     "output_type": "stream",
     "text": [
      "Do you want to know your Body mass index(BMI) fill the details\n",
      "enter your height in m: 1.78\n",
      "enter your weight in kg: 72\n",
      "Your bmi is 23, you are normal weight\n",
      "23\n"
     ]
    }
   ],
   "source": [
    "print(\"Do you want to know your Body mass index(BMI) fill the details\")\n",
    "\n",
    "height = float(input(\"enter your height in m: \"))\n",
    "\n",
    "weight = float(input(\"enter your weight in kg: \"))\n",
    "\n",
    "BMI = round(weight / height ** 2)\n",
    "\n",
    "if BMI < 18.5:\n",
    "    print(f\"Your bmi is {BMI}, you are underweight\")\n",
    "elif BMI < 25 :\n",
    "    print(f\"Your bmi is {BMI}, you are normal weight\")\n",
    "elif BMI < 30:\n",
    "    print(f\"Your bmi is {BMI}, you are overweight\")\n",
    "elif BMI < 35:\n",
    "    print(f\"Your bmi is {BMI}, you are obese\")\n",
    "else:\n",
    "    print(f\"Your bmi is {BMI}, you are clinically obese\")\n",
    "\n"
   ]
  },
  {
   "cell_type": "code",
   "execution_count": null,
   "id": "126663d6",
   "metadata": {},
   "outputs": [],
   "source": []
  },
  {
   "cell_type": "code",
   "execution_count": null,
   "id": "531afc01",
   "metadata": {},
   "outputs": [],
   "source": []
  },
  {
   "cell_type": "code",
   "execution_count": null,
   "id": "b5915626",
   "metadata": {},
   "outputs": [],
   "source": []
  },
  {
   "cell_type": "code",
   "execution_count": null,
   "id": "6e610e28",
   "metadata": {},
   "outputs": [],
   "source": []
  },
  {
   "cell_type": "code",
   "execution_count": null,
   "id": "dec0070a",
   "metadata": {},
   "outputs": [],
   "source": []
  },
  {
   "cell_type": "code",
   "execution_count": null,
   "id": "1f4d5a8e",
   "metadata": {},
   "outputs": [],
   "source": []
  }
 ],
 "metadata": {
  "kernelspec": {
   "display_name": "Python 3 (ipykernel)",
   "language": "python",
   "name": "python3"
  },
  "language_info": {
   "codemirror_mode": {
    "name": "ipython",
    "version": 3
   },
   "file_extension": ".py",
   "mimetype": "text/x-python",
   "name": "python",
   "nbconvert_exporter": "python",
   "pygments_lexer": "ipython3",
   "version": "3.10.5"
  }
 },
 "nbformat": 4,
 "nbformat_minor": 5
}
