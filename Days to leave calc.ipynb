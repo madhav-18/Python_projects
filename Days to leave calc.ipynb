{
 "cells": [
  {
   "cell_type": "code",
   "execution_count": null,
   "id": "adae0685",
   "metadata": {},
   "outputs": [],
   "source": [
    "\n",
    "age = input(\"What is your current age? \")\n",
    "\n",
    "int_age = int(age)\n",
    "\n",
    "years_remaining = 90 - int_age\n",
    "\n",
    "Days = 365 * 90 - int_age * 365 \n",
    "\n",
    "week = 52 * 90 - int_age * 52\n",
    "\n",
    "months = 12 * 90 - int_age * 12\n",
    "\n",
    "print(f\"You have {Days} Days , {week} Weeks and {months} Months left.\")\n",
    "\n",
    "print(\"Results are based on if you leave upto 90 years.\")\n",
    "\n",
    "\n",
    "\n",
    "\n",
    "\n",
    "\n",
    "\n"
   ]
  },
  {
   "cell_type": "code",
   "execution_count": null,
   "id": "1d9910e5",
   "metadata": {},
   "outputs": [],
   "source": [
    "\n"
   ]
  }
 ],
 "metadata": {
  "kernelspec": {
   "display_name": "Python 3 (ipykernel)",
   "language": "python",
   "name": "python3"
  },
  "language_info": {
   "codemirror_mode": {
    "name": "ipython",
    "version": 3
   },
   "file_extension": ".py",
   "mimetype": "text/x-python",
   "name": "python",
   "nbconvert_exporter": "python",
   "pygments_lexer": "ipython3",
   "version": "3.10.5"
  }
 },
 "nbformat": 4,
 "nbformat_minor": 5
}
